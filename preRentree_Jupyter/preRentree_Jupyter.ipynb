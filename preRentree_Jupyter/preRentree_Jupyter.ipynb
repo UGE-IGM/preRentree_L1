{
 "cells": [
  {
   "cell_type": "markdown",
   "metadata": {},
   "source": [
    "<div>\n",
    "<div style='float:left; margin-right:40pt; width:6cm'><img src='img/Eiffel.png'></div>\n",
    "<div style='float:right; font-size:large; text-align:right'><strong>Session 1 pré-rentrée</strong><br>\n",
    "L1 Mathématiques - L1 Informatique<br>\n",
    "</div>\n",
    "</div>"
   ]
  },
  {
   "cell_type": "markdown",
   "metadata": {},
   "source": [
    "# Voici votre premier notebook jupyter !"
   ]
  },
  {
   "cell_type": "markdown",
   "metadata": {},
   "source": [
    "Ce notebook a été crée spécialement pour : \n",
    "1. vous initier au fonctionnement d'un notebook ;\n",
    "2. vous familiariser avec l'organisation des cours de Python ;\n",
    "\n",
    "Dans ce cadre le contenu de ce fichier est fortement inspiré du premier cours de Python. Ne soyez pas surpris si vous trouver des ressemblances.\n",
    "\n",
    "Dans ce \"pseudo\" cours vous allez :\n",
    "1. découvrir des types Python de base, apprendre à les reconnaitre et les utiliser ;\n",
    "2. vérifier vos premières connaissances sur les types."
   ]
  },
  {
   "cell_type": "markdown",
   "metadata": {},
   "source": [
    "## I Types de valeurs\n",
    "\n",
    "Toutes les valeurs en Python possèdent un **type**. Le type d'une valeur définit les **opérations** qu'il est possible de lui appliquer.\n",
    "\n",
    "Les types de base sont :\n",
    "* les nombres entiers (`int`)\n",
    "* les nombres décimaux (`float`)\n",
    "* les booléens (`bool`)\n",
    "* les chaines de caractères (`str`)\n",
    "* un type de valeur indéfinie (`NoneType`)"
   ]
  },
  {
   "cell_type": "markdown",
   "metadata": {},
   "source": [
    "### Nombres entiers (`int`)"
   ]
  },
  {
   "cell_type": "code",
   "execution_count": null,
   "metadata": {
    "scrolled": true
   },
   "outputs": [],
   "source": [
    "6"
   ]
  },
  {
   "cell_type": "code",
   "execution_count": null,
   "metadata": {},
   "outputs": [],
   "source": [
    "12345"
   ]
  },
  {
   "cell_type": "code",
   "execution_count": null,
   "metadata": {},
   "outputs": [],
   "source": [
    "-4  # un entier négatif"
   ]
  },
  {
   "cell_type": "code",
   "execution_count": null,
   "metadata": {},
   "outputs": [],
   "source": [
    "2 ** 1000  # un très très grand entier !!!"
   ]
  },
  {
   "cell_type": "markdown",
   "metadata": {},
   "source": [
    "### Nombres décimaux (`float`)"
   ]
  },
  {
   "cell_type": "code",
   "execution_count": null,
   "metadata": {},
   "outputs": [],
   "source": [
    "3.14"
   ]
  },
  {
   "cell_type": "code",
   "execution_count": null,
   "metadata": {},
   "outputs": [],
   "source": [
    "-1.5"
   ]
  },
  {
   "cell_type": "code",
   "execution_count": null,
   "metadata": {},
   "outputs": [],
   "source": [
    ".1"
   ]
  },
  {
   "cell_type": "code",
   "execution_count": null,
   "metadata": {},
   "outputs": [],
   "source": [
    "12."
   ]
  },
  {
   "cell_type": "code",
   "execution_count": null,
   "metadata": {},
   "outputs": [],
   "source": [
    "4.56e3  # notation scientifique"
   ]
  },
  {
   "cell_type": "markdown",
   "metadata": {},
   "source": [
    "### Booléens (`bool`)\n",
    "\n",
    "Ce type permet de représenter les deux valeurs de vérité « vrai » et « faux ». On en reparlera au prochain chapitre."
   ]
  },
  {
   "cell_type": "code",
   "execution_count": null,
   "metadata": {},
   "outputs": [],
   "source": [
    "True  # vrai"
   ]
  },
  {
   "cell_type": "code",
   "execution_count": null,
   "metadata": {},
   "outputs": [],
   "source": [
    "False  # faux"
   ]
  },
  {
   "cell_type": "markdown",
   "metadata": {},
   "source": [
    "<img src='img/warning.png' width='50px' style='display:inline'> **Attention :** Les majuscules/minuscules sont importantes :"
   ]
  },
  {
   "cell_type": "code",
   "execution_count": null,
   "metadata": {},
   "outputs": [],
   "source": [
    "true  # provoque une exception (une erreur)"
   ]
  },
  {
   "cell_type": "markdown",
   "metadata": {},
   "source": [
    "### Chaînes de caractères (`str`)"
   ]
  },
  {
   "cell_type": "markdown",
   "metadata": {},
   "source": [
    "Une chaine de caractères est une succession de symboles (lettres, chiffres, ou autres) entre des guillemets.\n",
    "\n",
    "En Python, il y a plusieurs moyen d'en construire pour répondre à la nécessité d'avoir à l'intérieur d'elle même des guillemets."
   ]
  },
  {
   "cell_type": "markdown",
   "metadata": {},
   "source": [
    "#### La construction des chaines de caractères"
   ]
  },
  {
   "cell_type": "code",
   "execution_count": null,
   "metadata": {},
   "outputs": [],
   "source": [
    "'bonjour'  # guillemets simples"
   ]
  },
  {
   "cell_type": "code",
   "execution_count": null,
   "metadata": {},
   "outputs": [],
   "source": [
    "\"hello !\"  # guillemets doubles"
   ]
  },
  {
   "cell_type": "code",
   "execution_count": 1,
   "metadata": {},
   "outputs": [
    {
     "data": {
      "text/plain": [
       "'மனிதப் பிறவியினர் சகலரும் சுதந்திரமாகவே பிறக்கின்றனர்.'"
      ]
     },
     "execution_count": 1,
     "metadata": {},
     "output_type": "execute_result"
    }
   ],
   "source": [
    "\"மனிதப் பிறவியினர் சகலரும் சுதந்திரமாகவே பிறக்கின்றனர்.\"  # caractères non-latins"
   ]
  },
  {
   "cell_type": "code",
   "execution_count": null,
   "metadata": {},
   "outputs": [],
   "source": [
    "\"\"\"Pour des chaînes plus longues\n",
    "(par exemple un paragraphe entier)\n",
    "on peut utiliser des guillemets\n",
    "triples.\"\"\""
   ]
  },
  {
   "cell_type": "markdown",
   "metadata": {},
   "source": [
    "Il faut faire un peu attention pour écrire une chaîne de caractères contenant des apostrophes ou des guillemets :"
   ]
  },
  {
   "cell_type": "code",
   "execution_count": null,
   "metadata": {},
   "outputs": [],
   "source": [
    "\"King's Landing\""
   ]
  },
  {
   "cell_type": "code",
   "execution_count": null,
   "metadata": {},
   "outputs": [],
   "source": [
    "'Mon nom est \"Personne\".'"
   ]
  },
  {
   "cell_type": "markdown",
   "metadata": {},
   "source": [
    "#### Affichage de chaîne"
   ]
  },
  {
   "cell_type": "code",
   "execution_count": null,
   "metadata": {},
   "outputs": [],
   "source": [
    "print(\"Bonjour à toi, Ô lecteur attentif !\")"
   ]
  },
  {
   "cell_type": "markdown",
   "metadata": {},
   "source": [
    "#### Caractères spéciaux : \\n, \\t, \\', \\\", \\\\"
   ]
  },
  {
   "cell_type": "code",
   "execution_count": null,
   "metadata": {},
   "outputs": [],
   "source": [
    "\"sauts\\nde\\nligne\"  # \\n provoquera un passage à la ligne si on affichait la chaine de caractère"
   ]
  },
  {
   "cell_type": "code",
   "execution_count": null,
   "metadata": {},
   "outputs": [],
   "source": [
    "print(\"sauts\\nde\\nligne\")"
   ]
  },
  {
   "cell_type": "code",
   "execution_count": null,
   "metadata": {},
   "outputs": [],
   "source": [
    "print(\"Du\\ttexte\\nsur\\t2 colonnes\")  # touche ⇥"
   ]
  },
  {
   "cell_type": "code",
   "execution_count": null,
   "metadata": {},
   "outputs": [],
   "source": [
    "print(\"D'autres symboles spéciaux : \\' \\\" \\\\\")"
   ]
  },
  {
   "cell_type": "markdown",
   "metadata": {},
   "source": [
    "### Valeur indéfinie (`NoneType`)"
   ]
  },
  {
   "cell_type": "code",
   "execution_count": null,
   "metadata": {},
   "outputs": [],
   "source": [
    "None  # ça a l'air de ne servir à rien mais en fait c'est bien pratique"
   ]
  },
  {
   "cell_type": "markdown",
   "metadata": {},
   "source": [
    "## Vérifier vos connaissances\n",
    "\n",
    "A ce stade, vous devez être capable :\n",
    "* de citer les cinq types Python de base que nous avons vu ;\n",
    "* de reconnaitre le type d'une expression simple ;\n",
    "* de donner les trois manières de créer une chaine de caractères ;\n",
    "* d'écrire des chaines de caractères contenant elle même des guillemets ;\n",
    "* de citer les principaux caractères spéciaux qu'une chaine peut contenir et d'expliquer leur effet ;\n",
    "* savoir comment afficher une chaines de caractères."
   ]
  },
  {
   "cell_type": "markdown",
   "metadata": {},
   "source": [
    "### Exercice d'appropriation / entraînement : Validité et correction de chaines de caractères\n",
    "\n",
    "Les chaines de caractères suivantes sont-elles bien construites ? Si non, les corriger.\n",
    "\n",
    "*__Remarque :__ Il se peut que vous ayez à faire des choix et qu'il y ait plusieurs corrections possibles.*"
   ]
  },
  {
   "cell_type": "code",
   "execution_count": null,
   "metadata": {},
   "outputs": [],
   "source": [
    "\"\"Bonjour\"\""
   ]
  },
  {
   "cell_type": "code",
   "execution_count": null,
   "metadata": {},
   "outputs": [],
   "source": [
    "\"\\\"Ceci est une citation\\\"\""
   ]
  },
  {
   "cell_type": "code",
   "execution_count": null,
   "metadata": {},
   "outputs": [],
   "source": [
    "\"Suis je une chaine ?'"
   ]
  },
  {
   "cell_type": "code",
   "execution_count": null,
   "metadata": {},
   "outputs": [],
   "source": [
    "\"Je contiens une \\tabulatio\\n\""
   ]
  },
  {
   "cell_type": "code",
   "execution_count": null,
   "metadata": {},
   "outputs": [],
   "source": [
    "'\"Ceci est encore une citation\"'"
   ]
  }
 ],
 "metadata": {
  "kernelspec": {
   "display_name": "Python 3 (ipykernel)",
   "language": "python",
   "name": "python3"
  },
  "language_info": {
   "codemirror_mode": {
    "name": "ipython",
    "version": 3
   },
   "file_extension": ".py",
   "mimetype": "text/x-python",
   "name": "python",
   "nbconvert_exporter": "python",
   "pygments_lexer": "ipython3",
   "version": "3.8.5"
  }
 },
 "nbformat": 4,
 "nbformat_minor": 2
}
